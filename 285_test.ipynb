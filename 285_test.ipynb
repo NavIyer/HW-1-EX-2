{
  "nbformat": 4,
  "nbformat_minor": 0,
  "metadata": {
    "colab": {
      "provenance": []
    },
    "kernelspec": {
      "name": "python3",
      "display_name": "Python 3"
    },
    "language_info": {
      "name": "python"
    }
  },
  "cells": [
    {
      "cell_type": "code",
      "execution_count": 2,
      "metadata": {
        "colab": {
          "base_uri": "https://localhost:8080/"
        },
        "id": "wYuFeZCSK6OW",
        "outputId": "745b4623-63fa-4092-9614-5dedffac252e"
      },
      "outputs": [
        {
          "output_type": "stream",
          "name": "stdout",
          "text": [
            "[10, 20, 30, 40, 50, 20, 40, 60, 80, 100, 30, 60, 90, 120, 150, 40, 80, 120, 160, 200, 50, 100, 150, 200, 250]\n"
          ]
        }
      ],
      "source": [
        "x = [10, 20, 30, 40, 50]\n",
        "y = [1, 2, 3, 4, 5]\n",
        "\n",
        "result = []\n",
        "for i in x:\n",
        "  for j in y:\n",
        "    result.append(i * j)\n",
        "\n",
        "print(result)\n",
        "\n",
        "# This code computes the product of every number in the list \"x\" with every number in the list \"y\",\n",
        "# and adds all the products to the list \"result\". Then it prints \"result\"."
      ]
    }
  ]
}